{
 "cells": [
  {
   "cell_type": "code",
   "execution_count": null,
   "id": "74fcd768",
   "metadata": {},
   "outputs": [],
   "source": [
    "import pandas as pd\n",
    "import sys\n",
    "import os\n",
    "\n",
    "# Add the parent directory to sys.path\n",
    "sys.path.append(os.path.abspath(os.path.join(os.getcwd(), '..', 'data')))\n",
    "\n",
    "# importing the JSON data\n",
    "from data import data"
   ]
  },
  {
   "cell_type": "markdown",
   "id": "dc6262f3",
   "metadata": {},
   "source": [
    "# Creating a CSV file from JSON formated data"
   ]
  },
  {
   "cell_type": "code",
   "execution_count": 6,
   "id": "c357b1e9",
   "metadata": {},
   "outputs": [],
   "source": [
    "data = pd.DataFrame(data)"
   ]
  },
  {
   "cell_type": "code",
   "execution_count": 7,
   "id": "f2b3f1a1",
   "metadata": {},
   "outputs": [
    {
     "data": {
      "application/vnd.microsoft.datawrangler.viewer.v0+json": {
       "columns": [
        {
         "name": "index",
         "rawType": "int64",
         "type": "integer"
        },
        {
         "name": "user_goal",
         "rawType": "object",
         "type": "string"
        },
        {
         "name": "habit_log",
         "rawType": "object",
         "type": "string"
        },
        {
         "name": "habit_type",
         "rawType": "object",
         "type": "string"
        },
        {
         "name": "sentiment",
         "rawType": "object",
         "type": "string"
        },
        {
         "name": "aligned",
         "rawType": "bool",
         "type": "boolean"
        }
       ],
       "ref": "dbf9f8c3-41cc-416d-93ed-f207505cc474",
       "rows": [
        [
         "0",
         "I want to learn how to play the guitar.",
         "I practiced guitar for 30 minutes today.",
         "Learning",
         "Positive",
         "True"
        ],
        [
         "1",
         "I want to learn how to play the guitar.",
         "I watched TV instead of practicing guitar.",
         "Distraction",
         "Negative",
         "False"
        ],
        [
         "2",
         "I want to learn a new language.",
         "I practiced Spanish for 15 minutes today.",
         "Learning",
         "Positive",
         "True"
        ],
        [
         "3",
         "I want to learn a new language.",
         "I didn't practice my language skills this week.",
         "Learning",
         "Negative",
         "False"
        ],
        [
         "4",
         "I want to learn photography.",
         "I took photos in manual mode and watched a tutorial.",
         "Learning",
         "Positive",
         "True"
        ]
       ],
       "shape": {
        "columns": 5,
        "rows": 5
       }
      },
      "text/html": [
       "<div>\n",
       "<style scoped>\n",
       "    .dataframe tbody tr th:only-of-type {\n",
       "        vertical-align: middle;\n",
       "    }\n",
       "\n",
       "    .dataframe tbody tr th {\n",
       "        vertical-align: top;\n",
       "    }\n",
       "\n",
       "    .dataframe thead th {\n",
       "        text-align: right;\n",
       "    }\n",
       "</style>\n",
       "<table border=\"1\" class=\"dataframe\">\n",
       "  <thead>\n",
       "    <tr style=\"text-align: right;\">\n",
       "      <th></th>\n",
       "      <th>user_goal</th>\n",
       "      <th>habit_log</th>\n",
       "      <th>habit_type</th>\n",
       "      <th>sentiment</th>\n",
       "      <th>aligned</th>\n",
       "    </tr>\n",
       "  </thead>\n",
       "  <tbody>\n",
       "    <tr>\n",
       "      <th>0</th>\n",
       "      <td>I want to learn how to play the guitar.</td>\n",
       "      <td>I practiced guitar for 30 minutes today.</td>\n",
       "      <td>Learning</td>\n",
       "      <td>Positive</td>\n",
       "      <td>True</td>\n",
       "    </tr>\n",
       "    <tr>\n",
       "      <th>1</th>\n",
       "      <td>I want to learn how to play the guitar.</td>\n",
       "      <td>I watched TV instead of practicing guitar.</td>\n",
       "      <td>Distraction</td>\n",
       "      <td>Negative</td>\n",
       "      <td>False</td>\n",
       "    </tr>\n",
       "    <tr>\n",
       "      <th>2</th>\n",
       "      <td>I want to learn a new language.</td>\n",
       "      <td>I practiced Spanish for 15 minutes today.</td>\n",
       "      <td>Learning</td>\n",
       "      <td>Positive</td>\n",
       "      <td>True</td>\n",
       "    </tr>\n",
       "    <tr>\n",
       "      <th>3</th>\n",
       "      <td>I want to learn a new language.</td>\n",
       "      <td>I didn't practice my language skills this week.</td>\n",
       "      <td>Learning</td>\n",
       "      <td>Negative</td>\n",
       "      <td>False</td>\n",
       "    </tr>\n",
       "    <tr>\n",
       "      <th>4</th>\n",
       "      <td>I want to learn photography.</td>\n",
       "      <td>I took photos in manual mode and watched a tut...</td>\n",
       "      <td>Learning</td>\n",
       "      <td>Positive</td>\n",
       "      <td>True</td>\n",
       "    </tr>\n",
       "  </tbody>\n",
       "</table>\n",
       "</div>"
      ],
      "text/plain": [
       "                                 user_goal  \\\n",
       "0  I want to learn how to play the guitar.   \n",
       "1  I want to learn how to play the guitar.   \n",
       "2          I want to learn a new language.   \n",
       "3          I want to learn a new language.   \n",
       "4             I want to learn photography.   \n",
       "\n",
       "                                           habit_log   habit_type sentiment  \\\n",
       "0           I practiced guitar for 30 minutes today.     Learning  Positive   \n",
       "1         I watched TV instead of practicing guitar.  Distraction  Negative   \n",
       "2          I practiced Spanish for 15 minutes today.     Learning  Positive   \n",
       "3    I didn't practice my language skills this week.     Learning  Negative   \n",
       "4  I took photos in manual mode and watched a tut...     Learning  Positive   \n",
       "\n",
       "   aligned  \n",
       "0     True  \n",
       "1    False  \n",
       "2     True  \n",
       "3    False  \n",
       "4     True  "
      ]
     },
     "execution_count": 7,
     "metadata": {},
     "output_type": "execute_result"
    }
   ],
   "source": [
    "data.head()"
   ]
  },
  {
   "cell_type": "code",
   "execution_count": 8,
   "id": "4e822445",
   "metadata": {},
   "outputs": [
    {
     "data": {
      "text/plain": [
       "(167, 5)"
      ]
     },
     "execution_count": 8,
     "metadata": {},
     "output_type": "execute_result"
    }
   ],
   "source": [
    "data.shape"
   ]
  },
  {
   "cell_type": "code",
   "execution_count": 11,
   "id": "97c5f607",
   "metadata": {},
   "outputs": [],
   "source": [
    "data.drop_duplicates(inplace=True)\n",
    "# No duplicates found"
   ]
  },
  {
   "cell_type": "markdown",
   "id": "dbadbcc0",
   "metadata": {},
   "source": [
    "# Exporting Data as CSV"
   ]
  },
  {
   "cell_type": "code",
   "execution_count": 17,
   "id": "ee1aa930",
   "metadata": {},
   "outputs": [],
   "source": [
    "pd.DataFrame(data).to_csv('../data/raw/data.csv', index=False)"
   ]
  },
  {
   "cell_type": "code",
   "execution_count": null,
   "id": "f15a4500",
   "metadata": {},
   "outputs": [],
   "source": []
  }
 ],
 "metadata": {
  "kernelspec": {
   "display_name": "Python 3",
   "language": "python",
   "name": "python3"
  },
  "language_info": {
   "codemirror_mode": {
    "name": "ipython",
    "version": 3
   },
   "file_extension": ".py",
   "mimetype": "text/x-python",
   "name": "python",
   "nbconvert_exporter": "python",
   "pygments_lexer": "ipython3",
   "version": "3.11.7"
  }
 },
 "nbformat": 4,
 "nbformat_minor": 5
}
