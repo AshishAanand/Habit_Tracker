{
 "cells": [
  {
   "cell_type": "code",
   "execution_count": null,
   "id": "912d3972",
   "metadata": {},
   "outputs": [],
   "source": [
    "import pandas as pd\n",
    "import sys\n",
    "import os\n",
    "\n",
    "# Add the parent directory to sys.path\n",
    "sys.path.append(os.path.abspath(os.path.join(os.getcwd(), '..', 'data')))\n",
    "\n",
    "# importing the JSON data\n",
    "from data import data\n",
    "\n",
    "from sklearn.model_selection import train_test_split\n",
    "\n",
    "# Importing necessary libraries for data preprocessing\n",
    "from sklearn.preprocessing import StandardScaler, OneHotEncoder, LabelEncoder\n",
    "\n",
    "# Importing text preprocessing class from sklearn\n",
    "from sklearn.feature_extraction.text import TfidfVectorizer\n",
    "# Importing Pipeline and ColumnTransformer for preprocessing\n",
    "from sklearn.pipeline import Pipeline, make_pipeline\n",
    "from sklearn.compose import ColumnTransformer, make_column_transformer\n",
    "\n",
    "# Importing model\n",
    "from sklearn.naive_bayes import MultinomialNB\n",
    "from sklearn.linear_model import LogisticRegression\n",
    "# from sklearn.matrics import confusion_matrix, classification_report, accuracy_score\n"
   ]
  },
  {
   "cell_type": "markdown",
   "id": "b2912e37",
   "metadata": {},
   "source": [
    "# Loding data"
   ]
  },
  {
   "cell_type": "code",
   "execution_count": 24,
   "id": "ef8aa2d4",
   "metadata": {},
   "outputs": [],
   "source": [
    "data = pd.read_csv('../data/raw/data.csv')"
   ]
  },
  {
   "cell_type": "code",
   "execution_count": 25,
   "id": "b577438c",
   "metadata": {},
   "outputs": [
    {
     "data": {
      "application/vnd.microsoft.datawrangler.viewer.v0+json": {
       "columns": [
        {
         "name": "index",
         "rawType": "int64",
         "type": "integer"
        },
        {
         "name": "user_goal",
         "rawType": "object",
         "type": "string"
        },
        {
         "name": "habit_log",
         "rawType": "object",
         "type": "string"
        },
        {
         "name": "habit_type",
         "rawType": "object",
         "type": "string"
        },
        {
         "name": "sentiment",
         "rawType": "object",
         "type": "string"
        },
        {
         "name": "aligned",
         "rawType": "bool",
         "type": "boolean"
        }
       ],
       "ref": "6cac024d-2a2c-4943-9dbf-d753c7aadc4e",
       "rows": [
        [
         "0",
         "I want to learn how to play the guitar.",
         "I practiced guitar for 30 minutes today.",
         "Learning",
         "Positive",
         "True"
        ],
        [
         "1",
         "I want to learn how to play the guitar.",
         "I watched TV instead of practicing guitar.",
         "Distraction",
         "Negative",
         "False"
        ],
        [
         "2",
         "I want to learn a new language.",
         "I practiced Spanish for 15 minutes today.",
         "Learning",
         "Positive",
         "True"
        ],
        [
         "3",
         "I want to learn a new language.",
         "I didn't practice my language skills this week.",
         "Learning",
         "Negative",
         "False"
        ],
        [
         "4",
         "I want to learn photography.",
         "I took photos in manual mode and watched a tutorial.",
         "Learning",
         "Positive",
         "True"
        ]
       ],
       "shape": {
        "columns": 5,
        "rows": 5
       }
      },
      "text/html": [
       "<div>\n",
       "<style scoped>\n",
       "    .dataframe tbody tr th:only-of-type {\n",
       "        vertical-align: middle;\n",
       "    }\n",
       "\n",
       "    .dataframe tbody tr th {\n",
       "        vertical-align: top;\n",
       "    }\n",
       "\n",
       "    .dataframe thead th {\n",
       "        text-align: right;\n",
       "    }\n",
       "</style>\n",
       "<table border=\"1\" class=\"dataframe\">\n",
       "  <thead>\n",
       "    <tr style=\"text-align: right;\">\n",
       "      <th></th>\n",
       "      <th>user_goal</th>\n",
       "      <th>habit_log</th>\n",
       "      <th>habit_type</th>\n",
       "      <th>sentiment</th>\n",
       "      <th>aligned</th>\n",
       "    </tr>\n",
       "  </thead>\n",
       "  <tbody>\n",
       "    <tr>\n",
       "      <th>0</th>\n",
       "      <td>I want to learn how to play the guitar.</td>\n",
       "      <td>I practiced guitar for 30 minutes today.</td>\n",
       "      <td>Learning</td>\n",
       "      <td>Positive</td>\n",
       "      <td>True</td>\n",
       "    </tr>\n",
       "    <tr>\n",
       "      <th>1</th>\n",
       "      <td>I want to learn how to play the guitar.</td>\n",
       "      <td>I watched TV instead of practicing guitar.</td>\n",
       "      <td>Distraction</td>\n",
       "      <td>Negative</td>\n",
       "      <td>False</td>\n",
       "    </tr>\n",
       "    <tr>\n",
       "      <th>2</th>\n",
       "      <td>I want to learn a new language.</td>\n",
       "      <td>I practiced Spanish for 15 minutes today.</td>\n",
       "      <td>Learning</td>\n",
       "      <td>Positive</td>\n",
       "      <td>True</td>\n",
       "    </tr>\n",
       "    <tr>\n",
       "      <th>3</th>\n",
       "      <td>I want to learn a new language.</td>\n",
       "      <td>I didn't practice my language skills this week.</td>\n",
       "      <td>Learning</td>\n",
       "      <td>Negative</td>\n",
       "      <td>False</td>\n",
       "    </tr>\n",
       "    <tr>\n",
       "      <th>4</th>\n",
       "      <td>I want to learn photography.</td>\n",
       "      <td>I took photos in manual mode and watched a tut...</td>\n",
       "      <td>Learning</td>\n",
       "      <td>Positive</td>\n",
       "      <td>True</td>\n",
       "    </tr>\n",
       "  </tbody>\n",
       "</table>\n",
       "</div>"
      ],
      "text/plain": [
       "                                 user_goal  \\\n",
       "0  I want to learn how to play the guitar.   \n",
       "1  I want to learn how to play the guitar.   \n",
       "2          I want to learn a new language.   \n",
       "3          I want to learn a new language.   \n",
       "4             I want to learn photography.   \n",
       "\n",
       "                                           habit_log   habit_type sentiment  \\\n",
       "0           I practiced guitar for 30 minutes today.     Learning  Positive   \n",
       "1         I watched TV instead of practicing guitar.  Distraction  Negative   \n",
       "2          I practiced Spanish for 15 minutes today.     Learning  Positive   \n",
       "3    I didn't practice my language skills this week.     Learning  Negative   \n",
       "4  I took photos in manual mode and watched a tut...     Learning  Positive   \n",
       "\n",
       "   aligned  \n",
       "0     True  \n",
       "1    False  \n",
       "2     True  \n",
       "3    False  \n",
       "4     True  "
      ]
     },
     "execution_count": 25,
     "metadata": {},
     "output_type": "execute_result"
    }
   ],
   "source": [
    "data.head()"
   ]
  },
  {
   "cell_type": "markdown",
   "id": "bf10de83",
   "metadata": {},
   "source": [
    "# Cleaning and Preprocessing"
   ]
  },
  {
   "cell_type": "code",
   "execution_count": 26,
   "id": "f87f06f2",
   "metadata": {},
   "outputs": [],
   "source": [
    "data.drop(columns=[\"aligned\"], inplace=True)"
   ]
  },
  {
   "cell_type": "code",
   "execution_count": 27,
   "id": "d9c60b30",
   "metadata": {},
   "outputs": [],
   "source": [
    "X_text = data[[\"user_goal\", \"habit_log\"]]\n",
    "y_habit_type = data[\"habit_type\"]\n",
    "y_sentiment = data[\"sentiment\"]"
   ]
  },
  {
   "cell_type": "code",
   "execution_count": 32,
   "id": "c1ef0899",
   "metadata": {},
   "outputs": [
    {
     "name": "stderr",
     "output_type": "stream",
     "text": [
      "c:\\Users\\HP\\AppData\\Local\\Programs\\Python\\Python311\\Lib\\site-packages\\sklearn\\linear_model\\_logistic.py:1256: FutureWarning: 'multi_class' was deprecated in version 1.5 and will be removed in 1.7. Use OneVsRestClassifier(LogisticRegression(..)) instead. Leave it to its default value to avoid this warning.\n",
      "  warnings.warn(\n"
     ]
    },
    {
     "name": "stdout",
     "output_type": "stream",
     "text": [
      "['Positive']\n"
     ]
    }
   ],
   "source": [
    "\n",
    "# preprocessing for text\n",
    "text_transformer = ColumnTransformer(\n",
    "    transformers=[\n",
    "        ('goal', TfidfVectorizer(),  'user_goal'),\n",
    "        ('log', TfidfVectorizer(), 'habit_log')\n",
    "    ]\n",
    ")\n",
    "\n",
    "#  Pipeline for habit_type prediction\n",
    "habit_type_pipeline = Pipeline(steps=[\n",
    "    ('text_transformer', text_transformer),\n",
    "    ('classifier', LogisticRegression(multi_class='ovr', max_iter=1000)) # This will predict habit_type\n",
    "])\n",
    "\n",
    "# Training it\n",
    "habit_type_pipeline.fit(X_text, y_habit_type)\n",
    "\n",
    "#  preparing predicted data for next prediction\n",
    "predicted_habit_type = habit_type_pipeline.predict(X_text)\n",
    "X_text_with_predicted = X_text.copy()\n",
    "X_text_with_predicted['predicted_habit_type'] = predicted_habit_type\n",
    "\n",
    "\n",
    "#  Pipeline for sentiment prediction\n",
    "\n",
    "final_preprocessor = ColumnTransformer(\n",
    "    transformers=[\n",
    "        ('goal', TfidfVectorizer(), 'user_goal'),\n",
    "        ('habit_log', TfidfVectorizer(), 'habit_log'),\n",
    "        ('habit_ohe', OneHotEncoder(), ['predicted_habit_type'])\n",
    "    ]\n",
    ")\n",
    "\n",
    "final_pipeline = Pipeline(steps=[\n",
    "    ('preprocessor', final_preprocessor),\n",
    "    ('classifier', LogisticRegression()) # This will predict sentiment of the user habit based on user_goal, habit_log, and habit_type(predicted above)\n",
    "])\n",
    "\n",
    "# Training it\n",
    "final_pipeline.fit(X_text_with_predicted, y_sentiment)\n",
    "\n",
    "# Example: Predict on the same data (always use a DataFrame, not a Series)\n",
    "# predicted_sentiment = final_pipeline.predict(X_text_with_predicted)\n",
    "\n",
    "# If you want to predict for a single sample, use .iloc and wrap it in double brackets to keep it a DataFrame:\n",
    "single_pred = final_pipeline.predict(X_text_with_predicted.iloc[[0]])\n",
    "\n",
    "print(single_pred)"
   ]
  },
  {
   "cell_type": "code",
   "execution_count": null,
   "id": "2b3d5294",
   "metadata": {},
   "outputs": [
    {
     "data": {
      "application/vnd.microsoft.datawrangler.viewer.v0+json": {
       "columns": [
        {
         "name": "index",
         "rawType": "int64",
         "type": "integer"
        },
        {
         "name": "user_goal",
         "rawType": "object",
         "type": "string"
        },
        {
         "name": "habit_log",
         "rawType": "object",
         "type": "string"
        },
        {
         "name": "predicted_habit_type",
         "rawType": "object",
         "type": "string"
        }
       ],
       "ref": "86ea7c1d-1c8c-4dd8-8a37-2335fbfd199d",
       "rows": [
        [
         "0",
         "I want to learn how to play the guitar.",
         "I practiced guitar for 30 minutes today.",
         "Learning"
        ],
        [
         "1",
         "I want to learn how to play the guitar.",
         "I watched TV instead of practicing guitar.",
         "Distraction"
        ],
        [
         "2",
         "I want to learn a new language.",
         "I practiced Spanish for 15 minutes today.",
         "Learning"
        ],
        [
         "3",
         "I want to learn a new language.",
         "I didn't practice my language skills this week.",
         "Learning"
        ],
        [
         "4",
         "I want to learn photography.",
         "I took photos in manual mode and watched a tutorial.",
         "Learning"
        ]
       ],
       "shape": {
        "columns": 3,
        "rows": 5
       }
      },
      "text/html": [
       "<div>\n",
       "<style scoped>\n",
       "    .dataframe tbody tr th:only-of-type {\n",
       "        vertical-align: middle;\n",
       "    }\n",
       "\n",
       "    .dataframe tbody tr th {\n",
       "        vertical-align: top;\n",
       "    }\n",
       "\n",
       "    .dataframe thead th {\n",
       "        text-align: right;\n",
       "    }\n",
       "</style>\n",
       "<table border=\"1\" class=\"dataframe\">\n",
       "  <thead>\n",
       "    <tr style=\"text-align: right;\">\n",
       "      <th></th>\n",
       "      <th>user_goal</th>\n",
       "      <th>habit_log</th>\n",
       "      <th>predicted_habit_type</th>\n",
       "    </tr>\n",
       "  </thead>\n",
       "  <tbody>\n",
       "    <tr>\n",
       "      <th>0</th>\n",
       "      <td>I want to learn how to play the guitar.</td>\n",
       "      <td>I practiced guitar for 30 minutes today.</td>\n",
       "      <td>Learning</td>\n",
       "    </tr>\n",
       "    <tr>\n",
       "      <th>1</th>\n",
       "      <td>I want to learn how to play the guitar.</td>\n",
       "      <td>I watched TV instead of practicing guitar.</td>\n",
       "      <td>Distraction</td>\n",
       "    </tr>\n",
       "    <tr>\n",
       "      <th>2</th>\n",
       "      <td>I want to learn a new language.</td>\n",
       "      <td>I practiced Spanish for 15 minutes today.</td>\n",
       "      <td>Learning</td>\n",
       "    </tr>\n",
       "    <tr>\n",
       "      <th>3</th>\n",
       "      <td>I want to learn a new language.</td>\n",
       "      <td>I didn't practice my language skills this week.</td>\n",
       "      <td>Learning</td>\n",
       "    </tr>\n",
       "    <tr>\n",
       "      <th>4</th>\n",
       "      <td>I want to learn photography.</td>\n",
       "      <td>I took photos in manual mode and watched a tut...</td>\n",
       "      <td>Learning</td>\n",
       "    </tr>\n",
       "  </tbody>\n",
       "</table>\n",
       "</div>"
      ],
      "text/plain": [
       "                                 user_goal  \\\n",
       "0  I want to learn how to play the guitar.   \n",
       "1  I want to learn how to play the guitar.   \n",
       "2          I want to learn a new language.   \n",
       "3          I want to learn a new language.   \n",
       "4             I want to learn photography.   \n",
       "\n",
       "                                           habit_log predicted_habit_type  \n",
       "0           I practiced guitar for 30 minutes today.             Learning  \n",
       "1         I watched TV instead of practicing guitar.          Distraction  \n",
       "2          I practiced Spanish for 15 minutes today.             Learning  \n",
       "3    I didn't practice my language skills this week.             Learning  \n",
       "4  I took photos in manual mode and watched a tut...             Learning  "
      ]
     },
     "execution_count": 17,
     "metadata": {},
     "output_type": "execute_result"
    }
   ],
   "source": [
    "X_text_with_predicted.head()"
   ]
  },
  {
   "cell_type": "markdown",
   "id": "087465ca",
   "metadata": {},
   "source": [
    "# Saving models"
   ]
  },
  {
   "cell_type": "code",
   "execution_count": 33,
   "id": "53534728",
   "metadata": {},
   "outputs": [],
   "source": [
    "#  module for saving model\n",
    "import joblib"
   ]
  },
  {
   "cell_type": "code",
   "execution_count": 34,
   "id": "5235bcde",
   "metadata": {},
   "outputs": [
    {
     "data": {
      "text/plain": [
       "['../models/sentiment_predictor.pkl']"
      ]
     },
     "execution_count": 34,
     "metadata": {},
     "output_type": "execute_result"
    }
   ],
   "source": [
    "# 1. for habit_type predictor\n",
    "joblib.dump(habit_type_pipeline, '../models/habit_type_predictor.pkl')\n",
    "# 2. for sentiment predictor\n",
    "joblib.dump(final_pipeline, '../models/sentiment_predictor.pkl')"
   ]
  },
  {
   "cell_type": "code",
   "execution_count": null,
   "id": "8bb9ca03",
   "metadata": {},
   "outputs": [],
   "source": []
  }
 ],
 "metadata": {
  "kernelspec": {
   "display_name": "Python 3",
   "language": "python",
   "name": "python3"
  },
  "language_info": {
   "codemirror_mode": {
    "name": "ipython",
    "version": 3
   },
   "file_extension": ".py",
   "mimetype": "text/x-python",
   "name": "python",
   "nbconvert_exporter": "python",
   "pygments_lexer": "ipython3",
   "version": "3.11.7"
  }
 },
 "nbformat": 4,
 "nbformat_minor": 5
}
