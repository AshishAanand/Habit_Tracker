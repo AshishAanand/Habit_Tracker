{
 "cells": [
  {
   "cell_type": "code",
   "execution_count": 7,
   "id": "912d3972",
   "metadata": {},
   "outputs": [],
   "source": [
    "import pandas as pd\n",
    "import sys\n",
    "import os\n",
    "\n",
    "# Add the parent directory to sys.path\n",
    "sys.path.append(os.path.abspath(os.path.join(os.getcwd(), '..', 'data')))\n",
    "\n",
    "# importing the JSON data\n",
    "from data import data\n",
    "\n",
    "# Importing necessary libraries for data preprocessing\n",
    "from sklearn.preprocessing import StandardScaler, OneHotEncoder\n",
    "\n",
    "# Importing text preprocessing class from sklearn\n",
    "from sklearn.feature_extraction.text import TfidfVectorizer\n",
    "# Importing Pipeline and ColumnTransformer for preprocessing\n",
    "from sklearn.pipeline import Pipeline\n",
    "from sklearn.compose import ColumnTransformer"
   ]
  },
  {
   "cell_type": "markdown",
   "id": "b2912e37",
   "metadata": {},
   "source": [
    "# Loding data"
   ]
  },
  {
   "cell_type": "code",
   "execution_count": 2,
   "id": "ef8aa2d4",
   "metadata": {},
   "outputs": [],
   "source": [
    "data = pd.read_csv('../data/raw/data.csv')"
   ]
  },
  {
   "cell_type": "code",
   "execution_count": 5,
   "id": "b577438c",
   "metadata": {},
   "outputs": [
    {
     "data": {
      "application/vnd.microsoft.datawrangler.viewer.v0+json": {
       "columns": [
        {
         "name": "index",
         "rawType": "int64",
         "type": "integer"
        },
        {
         "name": "user_goal",
         "rawType": "object",
         "type": "string"
        },
        {
         "name": "habit_log",
         "rawType": "object",
         "type": "string"
        },
        {
         "name": "habit_type",
         "rawType": "object",
         "type": "string"
        },
        {
         "name": "sentiment",
         "rawType": "object",
         "type": "string"
        }
       ],
       "ref": "627fb6a4-9cb4-46c8-8e3a-ea4a75fd42b1",
       "rows": [
        [
         "0",
         "I want to learn how to play the guitar.",
         "I practiced guitar for 30 minutes today.",
         "Learning",
         "Positive"
        ],
        [
         "1",
         "I want to learn how to play the guitar.",
         "I watched TV instead of practicing guitar.",
         "Distraction",
         "Negative"
        ],
        [
         "2",
         "I want to learn a new language.",
         "I practiced Spanish for 15 minutes today.",
         "Learning",
         "Positive"
        ],
        [
         "3",
         "I want to learn a new language.",
         "I didn't practice my language skills this week.",
         "Learning",
         "Negative"
        ],
        [
         "4",
         "I want to learn photography.",
         "I took photos in manual mode and watched a tutorial.",
         "Learning",
         "Positive"
        ]
       ],
       "shape": {
        "columns": 4,
        "rows": 5
       }
      },
      "text/html": [
       "<div>\n",
       "<style scoped>\n",
       "    .dataframe tbody tr th:only-of-type {\n",
       "        vertical-align: middle;\n",
       "    }\n",
       "\n",
       "    .dataframe tbody tr th {\n",
       "        vertical-align: top;\n",
       "    }\n",
       "\n",
       "    .dataframe thead th {\n",
       "        text-align: right;\n",
       "    }\n",
       "</style>\n",
       "<table border=\"1\" class=\"dataframe\">\n",
       "  <thead>\n",
       "    <tr style=\"text-align: right;\">\n",
       "      <th></th>\n",
       "      <th>user_goal</th>\n",
       "      <th>habit_log</th>\n",
       "      <th>habit_type</th>\n",
       "      <th>sentiment</th>\n",
       "    </tr>\n",
       "  </thead>\n",
       "  <tbody>\n",
       "    <tr>\n",
       "      <th>0</th>\n",
       "      <td>I want to learn how to play the guitar.</td>\n",
       "      <td>I practiced guitar for 30 minutes today.</td>\n",
       "      <td>Learning</td>\n",
       "      <td>Positive</td>\n",
       "    </tr>\n",
       "    <tr>\n",
       "      <th>1</th>\n",
       "      <td>I want to learn how to play the guitar.</td>\n",
       "      <td>I watched TV instead of practicing guitar.</td>\n",
       "      <td>Distraction</td>\n",
       "      <td>Negative</td>\n",
       "    </tr>\n",
       "    <tr>\n",
       "      <th>2</th>\n",
       "      <td>I want to learn a new language.</td>\n",
       "      <td>I practiced Spanish for 15 minutes today.</td>\n",
       "      <td>Learning</td>\n",
       "      <td>Positive</td>\n",
       "    </tr>\n",
       "    <tr>\n",
       "      <th>3</th>\n",
       "      <td>I want to learn a new language.</td>\n",
       "      <td>I didn't practice my language skills this week.</td>\n",
       "      <td>Learning</td>\n",
       "      <td>Negative</td>\n",
       "    </tr>\n",
       "    <tr>\n",
       "      <th>4</th>\n",
       "      <td>I want to learn photography.</td>\n",
       "      <td>I took photos in manual mode and watched a tut...</td>\n",
       "      <td>Learning</td>\n",
       "      <td>Positive</td>\n",
       "    </tr>\n",
       "  </tbody>\n",
       "</table>\n",
       "</div>"
      ],
      "text/plain": [
       "                                 user_goal  \\\n",
       "0  I want to learn how to play the guitar.   \n",
       "1  I want to learn how to play the guitar.   \n",
       "2          I want to learn a new language.   \n",
       "3          I want to learn a new language.   \n",
       "4             I want to learn photography.   \n",
       "\n",
       "                                           habit_log   habit_type sentiment  \n",
       "0           I practiced guitar for 30 minutes today.     Learning  Positive  \n",
       "1         I watched TV instead of practicing guitar.  Distraction  Negative  \n",
       "2          I practiced Spanish for 15 minutes today.     Learning  Positive  \n",
       "3    I didn't practice my language skills this week.     Learning  Negative  \n",
       "4  I took photos in manual mode and watched a tut...     Learning  Positive  "
      ]
     },
     "execution_count": 5,
     "metadata": {},
     "output_type": "execute_result"
    }
   ],
   "source": [
    "data.head()"
   ]
  },
  {
   "cell_type": "markdown",
   "id": "bf10de83",
   "metadata": {},
   "source": [
    "# Cleaning and Preprocessing"
   ]
  },
  {
   "cell_type": "code",
   "execution_count": 4,
   "id": "f87f06f2",
   "metadata": {},
   "outputs": [],
   "source": [
    "data.drop(columns=[\"aligned\"], inplace=True)"
   ]
  },
  {
   "cell_type": "code",
   "execution_count": 6,
   "id": "1c333d7d",
   "metadata": {},
   "outputs": [
    {
     "data": {
      "text/plain": [
       "array(['Learning', 'Distraction', 'Cooking', 'Fitness', 'Nutrition',\n",
       "       'Sleep', 'Mindfulness', 'Organization', 'Relationships',\n",
       "       'Community Service', 'Finance', 'Communication', 'Reading',\n",
       "       'Programming', 'Planning', 'Sustainability', 'Health', 'Gardening',\n",
       "       'Maintenance', 'Security', 'Wellbeing', 'Lifestyle', 'Safety',\n",
       "       'Creativity'], dtype=object)"
      ]
     },
     "execution_count": 6,
     "metadata": {},
     "output_type": "execute_result"
    }
   ],
   "source": [
    "data[\"habit_type\"].unique()"
   ]
  },
  {
   "cell_type": "code",
   "execution_count": null,
   "id": "fa566258",
   "metadata": {},
   "outputs": [],
   "source": []
  },
  {
   "cell_type": "code",
   "execution_count": null,
   "id": "c3ef4223",
   "metadata": {},
   "outputs": [],
   "source": [
    "# # Seperating data for two different ML models\n",
    "# data_for_habit_type = data.drop(columns=[\"sentiment\"])\n",
    "# data_for_sentiment = data.drop(columns=[\"habit_type\"])"
   ]
  }
 ],
 "metadata": {
  "kernelspec": {
   "display_name": "Python 3",
   "language": "python",
   "name": "python3"
  },
  "language_info": {
   "codemirror_mode": {
    "name": "ipython",
    "version": 3
   },
   "file_extension": ".py",
   "mimetype": "text/x-python",
   "name": "python",
   "nbconvert_exporter": "python",
   "pygments_lexer": "ipython3",
   "version": "3.11.7"
  }
 },
 "nbformat": 4,
 "nbformat_minor": 5
}
